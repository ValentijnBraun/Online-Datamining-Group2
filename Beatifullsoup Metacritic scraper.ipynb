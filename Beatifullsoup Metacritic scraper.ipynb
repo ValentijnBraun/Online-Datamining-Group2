{
 "cells": [
  {
   "cell_type": "code",
   "execution_count": 4,
   "metadata": {},
   "outputs": [],
   "source": [
    "import requests\n",
    "from bs4 import BeautifulSoup\n",
    "import json\n",
    "import datetime "
   ]
  },
  {
   "cell_type": "code",
   "execution_count": 5,
   "metadata": {},
   "outputs": [
    {
     "name": "stdout",
     "output_type": "stream",
     "text": [
      "<!DOCTYPE html>\n",
      "<html xmlns:og=\"http://opengraphprotocol.org/schema/\" xmlns:fb=\"http://ogp.me/ns/fb#\">\n",
      "<head>\n",
      "            <title>Best Video Games of All Time - Metacritic</title>\n",
      "        \n",
      "    <meta http-equiv=\"content-type\" content=\"text/html; charset=UTF-8\">\n",
      "\n",
      "    \n",
      "    <meta name=\"description\" content=\"See how well critics are rating the Best Video Games of All Time\">\n",
      "\n",
      "    \n",
      "    \n",
      "    \n",
      "    <meta name=\"application-name\" content=\"Metacritic\">\n",
      "    <meta name=\"msapplication-TileColor\" content=\"#000000\n"
     ]
    }
   ],
   "source": [
    "from requests import get\n",
    "\n",
    "url = 'https://www.metacritic.com/browse/games/score/metascore/all/all/filtered'\n",
    "\n",
    "headers = {\n",
    "    'User-Agent': 'Mozilla/5.0 (Windows NT 10.0; Win64; x64; rv:109.0) Gecko/20100101 Firefox/111.0'\n",
    "}\n",
    "\n",
    "response = requests.get(url, headers=headers)\n",
    "\n",
    "print(response.text[:500])\n"
   ]
  },
  {
   "cell_type": "code",
   "execution_count": 6,
   "metadata": {},
   "outputs": [
    {
     "data": {
      "text/plain": [
       "bs4.BeautifulSoup"
      ]
     },
     "execution_count": 6,
     "metadata": {},
     "output_type": "execute_result"
    }
   ],
   "source": [
    "from bs4 import BeautifulSoup\n",
    "\n",
    "html_soup = BeautifulSoup(response.text, 'html.parser')\n",
    "type(html_soup)"
   ]
  },
  {
   "cell_type": "code",
   "execution_count": 7,
   "metadata": {},
   "outputs": [
    {
     "name": "stdout",
     "output_type": "stream",
     "text": [
      "<class 'bs4.element.ResultSet'>\n",
      "100\n"
     ]
    }
   ],
   "source": [
    "games_containers = html_soup.find_all('td', class_ = 'clamp-summary-wrap')\n",
    "print(type(games_containers))\n",
    "print(len(games_containers))"
   ]
  },
  {
   "cell_type": "code",
   "execution_count": 8,
   "metadata": {},
   "outputs": [
    {
     "data": {
      "text/plain": [
       "<td class=\"clamp-summary-wrap\">\n",
       "<input class=\"clamp-summary-expand\" id=\"160692\" type=\"checkbox\">\n",
       "<div class=\"clamp-score-wrap\">\n",
       "<a class=\"metascore_anchor\" href=\"/game/nintendo-64/the-legend-of-zelda-ocarina-of-time/critic-reviews\">\n",
       "<div class=\"metascore_w large game positive\">99</div>\n",
       "</a>\n",
       "</div>\n",
       "<span class=\"title numbered\">\n",
       "                                                                    1.\n",
       "                                                            </span>\n",
       "<a class=\"title\" href=\"/game/nintendo-64/the-legend-of-zelda-ocarina-of-time\"><h3>The Legend of Zelda: Ocarina of Time</h3></a>\n",
       "<div class=\"clamp-details\">\n",
       "<div class=\"platform\">\n",
       "<span class=\"label\">Platform:</span>\n",
       "<span class=\"data\">\n",
       "                                        Nintendo 64\n",
       "                                                                            </span>\n",
       "</div>\n",
       "<span>November 23, 1998</span>\n",
       "</div>\n",
       "<div class=\"summary\">\n",
       "                        As a young boy, Link is tricked by Ganondorf, the King of the Gerudo Thieves. The evil human uses Link to gain access to the Sacred Realm, where he places his tainted hands on Triforce and transforms the beautiful Hyrulean landscape into a barren wasteland. Link is determined to fix the problems he helped to create, so with the help of Rauru he travels through time gathering the powers of the Seven Sages.\n",
       "                        </div>\n",
       "<div class=\"browse-score-clamp\">\n",
       "<div class=\"clamp-metascore\">\n",
       "<span class=\"title\">Metascore:</span>\n",
       "<a class=\"metascore_anchor\" href=\"/game/nintendo-64/the-legend-of-zelda-ocarina-of-time/critic-reviews\">\n",
       "<div class=\"metascore_w large game positive\">99</div>\n",
       "</a>\n",
       "</div>\n",
       "<div class=\"clamp-userscore\">\n",
       "<span class=\"title\">User Score:</span>\n",
       "<a class=\"metascore_anchor\" href=\"/game/nintendo-64/the-legend-of-zelda-ocarina-of-time/user-reviews\">\n",
       "<div class=\"metascore_w user large game positive\">9.1</div>\n",
       "</a>\n",
       "</div>\n",
       "</div>\n",
       "<i aria-hidden=\"true\" class=\"fa fa-caret-up\"></i>\n",
       "<i aria-hidden=\"true\" class=\"fa fa-caret-down\"></i>\n",
       "<label class=\"clamp-list-expand-label\" for=\"160692\"></label>\n",
       "</input></td>"
      ]
     },
     "execution_count": 8,
     "metadata": {},
     "output_type": "execute_result"
    }
   ],
   "source": [
    "first_game = games_containers[0]\n",
    "first_game"
   ]
  },
  {
   "cell_type": "code",
   "execution_count": 9,
   "metadata": {},
   "outputs": [
    {
     "data": {
      "text/plain": [
       "<div class=\"clamp-score-wrap\">\n",
       "<a class=\"metascore_anchor\" href=\"/game/nintendo-64/the-legend-of-zelda-ocarina-of-time/critic-reviews\">\n",
       "<div class=\"metascore_w large game positive\">99</div>\n",
       "</a>\n",
       "</div>"
      ]
     },
     "execution_count": 9,
     "metadata": {},
     "output_type": "execute_result"
    }
   ],
   "source": [
    "first_game.div"
   ]
  },
  {
   "cell_type": "code",
   "execution_count": 10,
   "metadata": {},
   "outputs": [
    {
     "data": {
      "text/plain": [
       "<a class=\"metascore_anchor\" href=\"/game/nintendo-64/the-legend-of-zelda-ocarina-of-time/critic-reviews\">\n",
       "<div class=\"metascore_w large game positive\">99</div>\n",
       "</a>"
      ]
     },
     "execution_count": 10,
     "metadata": {},
     "output_type": "execute_result"
    }
   ],
   "source": [
    "first_game.a"
   ]
  },
  {
   "cell_type": "code",
   "execution_count": 11,
   "metadata": {},
   "outputs": [
    {
     "data": {
      "text/plain": [
       "<h3>The Legend of Zelda: Ocarina of Time</h3>"
      ]
     },
     "execution_count": 11,
     "metadata": {},
     "output_type": "execute_result"
    }
   ],
   "source": [
    "first_game.h3"
   ]
  },
  {
   "cell_type": "code",
   "execution_count": 12,
   "metadata": {},
   "outputs": [
    {
     "data": {
      "text/plain": [
       "'The Legend of Zelda: Ocarina of Time'"
      ]
     },
     "execution_count": 12,
     "metadata": {},
     "output_type": "execute_result"
    }
   ],
   "source": [
    "first_game_name = first_game.h3.text\n",
    "first_game_name"
   ]
  },
  {
   "cell_type": "code",
   "execution_count": 13,
   "metadata": {},
   "outputs": [
    {
     "data": {
      "text/plain": [
       "'Nintendo 64'"
      ]
     },
     "execution_count": 13,
     "metadata": {},
     "output_type": "execute_result"
    }
   ],
   "source": [
    "#Adapted from Oluwabukunmi Ige - Scraping Movie Reviews using Beautiful Soup 4 and Python 3\n",
    "first_game.select('div.clamp-details span')[1].text.strip().replace('\\n', '')"
   ]
  },
  {
   "cell_type": "code",
   "execution_count": 14,
   "metadata": {},
   "outputs": [
    {
     "data": {
      "text/plain": [
       "'November 23, 1998'"
      ]
     },
     "execution_count": 14,
     "metadata": {},
     "output_type": "execute_result"
    }
   ],
   "source": [
    "#Adapted from Oluwabukunmi Ige - Scraping Movie Reviews using Beautiful Soup 4 and Python 3\n",
    "first_game.select('div.clamp-details span')[2].text"
   ]
  },
  {
   "cell_type": "code",
   "execution_count": 15,
   "metadata": {},
   "outputs": [
    {
     "data": {
      "text/plain": [
       "'9.1'"
      ]
     },
     "execution_count": 15,
     "metadata": {},
     "output_type": "execute_result"
    }
   ],
   "source": [
    "#Adapted from Oluwabukunmi Ige - Scraping Movie Reviews using Beautiful Soup 4 and Python 3\n",
    "first_game.select('div.metascore_w.user')[0].text"
   ]
  },
  {
   "cell_type": "code",
   "execution_count": 16,
   "metadata": {},
   "outputs": [
    {
     "data": {
      "text/plain": [
       "'99'"
      ]
     },
     "execution_count": 16,
     "metadata": {},
     "output_type": "execute_result"
    }
   ],
   "source": [
    "#Adapted from Oluwabukunmi Ige - Scraping Movie Reviews using Beautiful Soup 4 and Python 3\n",
    "first_game.select('div.metascore_w')[1].text"
   ]
  },
  {
   "cell_type": "code",
   "execution_count": 17,
   "metadata": {},
   "outputs": [
    {
     "data": {
      "text/plain": [
       "'As a young boy, Link is tricked by Ganondorf, the King of the Gerudo Thieves. The evil human uses Link to gain access to the Sacred Realm, where he places his tainted hands on Triforce and transforms the beautiful Hyrulean landscape into a barren wasteland. Link is determined to fix the problems he helped to create, so with the help of Rauru he travels through time gathering the powers of the Seven Sages.'"
      ]
     },
     "execution_count": 17,
     "metadata": {},
     "output_type": "execute_result"
    }
   ],
   "source": [
    "#Adapted from Oluwabukunmi Ige - Scraping Movie Reviews using Beautiful Soup 4 and Python 3\n",
    "first_game.select('div.summary')[0].text.strip().replace('\\n', '')"
   ]
  },
  {
   "cell_type": "code",
   "execution_count": 18,
   "metadata": {},
   "outputs": [
    {
     "data": {
      "text/plain": [
       "NoneType"
      ]
     },
     "execution_count": 18,
     "metadata": {},
     "output_type": "execute_result"
    }
   ],
   "source": [
    "eighth_movie_mscore = games_containers[7].find('div', class_ = 'ratings-metascore')\n",
    "type(eighth_movie_mscore)"
   ]
  },
  {
   "cell_type": "code",
   "execution_count": 19,
   "metadata": {},
   "outputs": [],
   "source": [
    "\n",
    "#Lists to store the scraped data in\n",
    "titles = []\n",
    "platforms = []\n",
    "releasedates = []\n",
    "metascores = []\n",
    "userscores = []\n",
    "summarys = []\n",
    "\n",
    "#Adapted from Oluwabukunmi Ige - Scraping Movie Reviews using Beautiful Soup 4 and Python 3\n",
    "#Extracting data from individual game container\n",
    "for container in games_containers:\n",
    "    \n",
    "    #The title\n",
    "    title = container.h3.text\n",
    "    titles.append(title)\n",
    "\n",
    "    #Platform\n",
    "    platform = container.select('div.clamp-details span')[1].text.strip().replace('\\n', '')\n",
    "    platforms.append(platform)\n",
    "\n",
    "    #The releasedate\n",
    "    releasedate = container.select('div.clamp-details span')[2].text\n",
    "    releasedates.append(releasedate)\n",
    "\n",
    "    #The metascore\n",
    "    metascore = container.select('div.metascore_w')[1].text\n",
    "    metascores.append(int(metascore))\n",
    "\n",
    "    #The userscore\n",
    "    userscore = container.select('div.metascore_w.user')[0].text\n",
    "    userscores.append(float(userscore))\n",
    "\n",
    "    #The summary\n",
    "    summary = container.select('div.summary')[0].text.strip().replace('\\n', '')\n",
    "    summarys.append(summary)\n"
   ]
  },
  {
   "cell_type": "code",
   "execution_count": 20,
   "metadata": {},
   "outputs": [
    {
     "name": "stdout",
     "output_type": "stream",
     "text": [
      "<class 'pandas.core.frame.DataFrame'>\n",
      "RangeIndex: 100 entries, 0 to 99\n",
      "Data columns (total 6 columns):\n",
      " #   Column       Non-Null Count  Dtype  \n",
      "---  ------       --------------  -----  \n",
      " 0   title        100 non-null    object \n",
      " 1   platform     100 non-null    object \n",
      " 2   releasedate  100 non-null    object \n",
      " 3   metascore    100 non-null    int64  \n",
      " 4   userscore    100 non-null    float64\n",
      " 5   summary      100 non-null    object \n",
      "dtypes: float64(1), int64(1), object(4)\n",
      "memory usage: 4.8+ KB\n",
      "None\n"
     ]
    },
    {
     "data": {
      "text/html": [
       "<div>\n",
       "<style scoped>\n",
       "    .dataframe tbody tr th:only-of-type {\n",
       "        vertical-align: middle;\n",
       "    }\n",
       "\n",
       "    .dataframe tbody tr th {\n",
       "        vertical-align: top;\n",
       "    }\n",
       "\n",
       "    .dataframe thead th {\n",
       "        text-align: right;\n",
       "    }\n",
       "</style>\n",
       "<table border=\"1\" class=\"dataframe\">\n",
       "  <thead>\n",
       "    <tr style=\"text-align: right;\">\n",
       "      <th></th>\n",
       "      <th>title</th>\n",
       "      <th>platform</th>\n",
       "      <th>releasedate</th>\n",
       "      <th>metascore</th>\n",
       "      <th>userscore</th>\n",
       "      <th>summary</th>\n",
       "    </tr>\n",
       "  </thead>\n",
       "  <tbody>\n",
       "    <tr>\n",
       "      <th>0</th>\n",
       "      <td>The Legend of Zelda: Ocarina of Time</td>\n",
       "      <td>Nintendo 64</td>\n",
       "      <td>November 23, 1998</td>\n",
       "      <td>99</td>\n",
       "      <td>9.1</td>\n",
       "      <td>As a young boy, Link is tricked by Ganondorf, ...</td>\n",
       "    </tr>\n",
       "    <tr>\n",
       "      <th>1</th>\n",
       "      <td>Tony Hawk's Pro Skater 2</td>\n",
       "      <td>PlayStation</td>\n",
       "      <td>September 20, 2000</td>\n",
       "      <td>98</td>\n",
       "      <td>7.5</td>\n",
       "      <td>As most major publishers' development efforts ...</td>\n",
       "    </tr>\n",
       "    <tr>\n",
       "      <th>2</th>\n",
       "      <td>Grand Theft Auto IV</td>\n",
       "      <td>PlayStation 3</td>\n",
       "      <td>April 29, 2008</td>\n",
       "      <td>98</td>\n",
       "      <td>7.8</td>\n",
       "      <td>[Metacritic's 2008 PS3 Game of the Year; Also ...</td>\n",
       "    </tr>\n",
       "    <tr>\n",
       "      <th>3</th>\n",
       "      <td>SoulCalibur</td>\n",
       "      <td>Dreamcast</td>\n",
       "      <td>September 8, 1999</td>\n",
       "      <td>98</td>\n",
       "      <td>8.5</td>\n",
       "      <td>This is a tale of souls and swords, transcendi...</td>\n",
       "    </tr>\n",
       "    <tr>\n",
       "      <th>4</th>\n",
       "      <td>Grand Theft Auto IV</td>\n",
       "      <td>Xbox 360</td>\n",
       "      <td>April 29, 2008</td>\n",
       "      <td>98</td>\n",
       "      <td>8.0</td>\n",
       "      <td>[Metacritic's 2008 Xbox 360 Game of the Year; ...</td>\n",
       "    </tr>\n",
       "    <tr>\n",
       "      <th>...</th>\n",
       "      <td>...</td>\n",
       "      <td>...</td>\n",
       "      <td>...</td>\n",
       "      <td>...</td>\n",
       "      <td>...</td>\n",
       "      <td>...</td>\n",
       "    </tr>\n",
       "    <tr>\n",
       "      <th>95</th>\n",
       "      <td>Sid Meier's Civilization II</td>\n",
       "      <td>PC</td>\n",
       "      <td>February 29, 1996</td>\n",
       "      <td>94</td>\n",
       "      <td>8.7</td>\n",
       "      <td>An empire-building turn-based strategy game. T...</td>\n",
       "    </tr>\n",
       "    <tr>\n",
       "      <th>96</th>\n",
       "      <td>Quake</td>\n",
       "      <td>PC</td>\n",
       "      <td>June 22, 1996</td>\n",
       "      <td>94</td>\n",
       "      <td>8.7</td>\n",
       "      <td>Rage through 32 single player levels and 6 dea...</td>\n",
       "    </tr>\n",
       "    <tr>\n",
       "      <th>97</th>\n",
       "      <td>Call of Duty 4: Modern Warfare</td>\n",
       "      <td>Xbox 360</td>\n",
       "      <td>November 5, 2007</td>\n",
       "      <td>94</td>\n",
       "      <td>8.5</td>\n",
       "      <td>As Call of Duty 4: Modern Warfare's single pla...</td>\n",
       "    </tr>\n",
       "    <tr>\n",
       "      <th>98</th>\n",
       "      <td>BioShock Infinite</td>\n",
       "      <td>PC</td>\n",
       "      <td>March 25, 2013</td>\n",
       "      <td>94</td>\n",
       "      <td>8.6</td>\n",
       "      <td>Initially conceived as a floating symbol of Am...</td>\n",
       "    </tr>\n",
       "    <tr>\n",
       "      <th>99</th>\n",
       "      <td>Halo 3</td>\n",
       "      <td>Xbox 360</td>\n",
       "      <td>September 25, 2007</td>\n",
       "      <td>94</td>\n",
       "      <td>8.2</td>\n",
       "      <td>Halo 3 is the third game in the Halo Trilogy a...</td>\n",
       "    </tr>\n",
       "  </tbody>\n",
       "</table>\n",
       "<p>100 rows × 6 columns</p>\n",
       "</div>"
      ],
      "text/plain": [
       "                                   title       platform         releasedate  \\\n",
       "0   The Legend of Zelda: Ocarina of Time    Nintendo 64   November 23, 1998   \n",
       "1               Tony Hawk's Pro Skater 2    PlayStation  September 20, 2000   \n",
       "2                    Grand Theft Auto IV  PlayStation 3      April 29, 2008   \n",
       "3                            SoulCalibur      Dreamcast   September 8, 1999   \n",
       "4                    Grand Theft Auto IV       Xbox 360      April 29, 2008   \n",
       "..                                   ...            ...                 ...   \n",
       "95           Sid Meier's Civilization II             PC   February 29, 1996   \n",
       "96                                 Quake             PC       June 22, 1996   \n",
       "97        Call of Duty 4: Modern Warfare       Xbox 360    November 5, 2007   \n",
       "98                     BioShock Infinite             PC      March 25, 2013   \n",
       "99                                Halo 3       Xbox 360  September 25, 2007   \n",
       "\n",
       "    metascore  userscore                                            summary  \n",
       "0          99        9.1  As a young boy, Link is tricked by Ganondorf, ...  \n",
       "1          98        7.5  As most major publishers' development efforts ...  \n",
       "2          98        7.8  [Metacritic's 2008 PS3 Game of the Year; Also ...  \n",
       "3          98        8.5  This is a tale of souls and swords, transcendi...  \n",
       "4          98        8.0  [Metacritic's 2008 Xbox 360 Game of the Year; ...  \n",
       "..        ...        ...                                                ...  \n",
       "95         94        8.7  An empire-building turn-based strategy game. T...  \n",
       "96         94        8.7  Rage through 32 single player levels and 6 dea...  \n",
       "97         94        8.5  As Call of Duty 4: Modern Warfare's single pla...  \n",
       "98         94        8.6  Initially conceived as a floating symbol of Am...  \n",
       "99         94        8.2  Halo 3 is the third game in the Halo Trilogy a...  \n",
       "\n",
       "[100 rows x 6 columns]"
      ]
     },
     "execution_count": 20,
     "metadata": {},
     "output_type": "execute_result"
    }
   ],
   "source": [
    "import pandas as pd\n",
    "\n",
    "test_df = pd.DataFrame({'title': titles,\n",
    "                        'platform': platforms,\n",
    "                       'releasedate': releasedates,\n",
    "                       'metascore': metascores,\n",
    "                       'userscore': userscores,\n",
    "                       'summary': summarys})\n",
    "print(test_df.info())\n",
    "test_df"
   ]
  },
  {
   "cell_type": "code",
   "execution_count": 21,
   "metadata": {},
   "outputs": [],
   "source": [
    "language = {\"Accept-Language\": \"en-US, en;q=0.5\"}\n",
    "pages = [int(i) for i in range(1,202)]"
   ]
  },
  {
   "cell_type": "code",
   "execution_count": 22,
   "metadata": {},
   "outputs": [],
   "source": [
    "import time\n",
    "from time import sleep\n",
    "from random import randint\n",
    "from time import time"
   ]
  },
  {
   "cell_type": "code",
   "execution_count": 25,
   "metadata": {},
   "outputs": [
    {
     "name": "stderr",
     "output_type": "stream",
     "text": [
      "C:\\Users\\Ward\\AppData\\Local\\Temp\\ipykernel_27112\\709018944.py:3: UserWarning: Warning Simulation\n",
      "  warn(\"Warning Simulation\")\n"
     ]
    }
   ],
   "source": [
    "from warnings import warn\n",
    "\n",
    "warn(\"Warning Simulation\")"
   ]
  },
  {
   "cell_type": "code",
   "execution_count": 26,
   "metadata": {},
   "outputs": [
    {
     "name": "stderr",
     "output_type": "stream",
     "text": [
      "C:\\Users\\Ward\\AppData\\Local\\Temp\\ipykernel_27112\\3197914578.py:4: DeprecationWarning: Importing clear_output from IPython.core.display is deprecated since IPython 7.14, please import from IPython display\n",
      "  from IPython.core.display import clear_output\n"
     ]
    }
   ],
   "source": [
    "#Importing needed libraries\n",
    "from requests import get\n",
    "from bs4 import BeautifulSoup\n",
    "from IPython.core.display import clear_output"
   ]
  },
  {
   "cell_type": "code",
   "execution_count": 27,
   "metadata": {},
   "outputs": [
    {
     "name": "stderr",
     "output_type": "stream",
     "text": [
      "C:\\Users\\Ward\\AppData\\Local\\Temp\\ipykernel_27112\\4006528444.py:44: UserWarning: Number of requests was greater than expected.\n",
      "  warn('Number of requests was greater than expected.')\n"
     ]
    }
   ],
   "source": [
    "#Defining the headers\n",
    "headers = {'User-Agent': 'Mozilla/5.0 (Windows NT 10.0; Win64; x64; rv:109.0) Gecko/20100101 Firefox/111.0'}\n",
    "\n",
    "#Defining the base URL\n",
    "base_url = 'https://www.metacritic.com/browse/games/score/metascore/all/all/filtered?page={}'\n",
    "\n",
    "#making a list of the to be pulled data to store the scraped data in\n",
    "titles = []\n",
    "platforms = []\n",
    "releasedates = []\n",
    "metascores = []\n",
    "userscores = []\n",
    "summarys = []\n",
    "\n",
    "#Preparing the monitoring of the loop\n",
    "start_time = time()\n",
    "requests = 0\n",
    "#Adapted from Vik Paruchuri -  Web Scraping with Python and BeautifulSoup\n",
    "#For every page in the interval 1-202\n",
    "for page in range(1, 203):\n",
    "\n",
    "    #Make a get request\n",
    "    response = get('https://www.metacritic.com/browse/games/score/metascore/all/all/filtered?page=' + str(page), headers=headers)\n",
    "    \n",
    "    #Pausing the loop\n",
    "    #We pause the loop to try to bypass any anti scraping defense of the website, even tho metacritic does not have this for other website this could be usefull\n",
    "    sleep(randint(8,15))\n",
    "    \n",
    "    #Monitoring the requests\n",
    "    #the following code is useful for monitoring the performance of our web scraping or API development program by tracking the rate of requests being made. We can find bottlenecks of the scraper this way\n",
    "    requests += 1\n",
    "    elapsed_time = time() - start_time\n",
    "    print('Request:{}; Frequency: {} requests/s'.format(requests, requests/elapsed_time))\n",
    "    clear_output(wait = True)\n",
    "          \n",
    "    #Throwing a warning for non-200 status codes\n",
    "    #We use this technique to handle error cases if the website is more difficult to scrape\n",
    "    if response.status_code != 200:\n",
    "        warn('Request: {}; Status code: {}'.format(requests, response.status_code))\n",
    "          \n",
    "    #Break the loop if the number of requests is greater than expected\n",
    "    #We break the loop because the querry will otherwise take too long to complete\n",
    "    if requests > 72:\n",
    "        warn('Number of requests was greater than expected.')  \n",
    "        break \n",
    "    \n",
    "    #Parsing the content of the request with BeautifulSoup\n",
    "    page_html = BeautifulSoup(response.text, 'html.parser')\n",
    "    \n",
    "    #Selecting all the game containers which contain our data we want to scrape from a single page\n",
    "    all_games_containers = page_html.find_all('td', class_ = 'clamp-summary-wrap')\n",
    "    \n",
    "    #For every game of these containers\n",
    "    for container in all_games_containers:\n",
    "        \n",
    "        #The title\n",
    "        title = container.h3.text\n",
    "        titles.append(title)\n",
    "\n",
    "        #Platform\n",
    "        platform = container.select('div.clamp-details span')[1].text.strip().replace('\\n', '')\n",
    "        platforms.append(platform)\n",
    "\n",
    "        #The release date\n",
    "        releasedate = container.select('div.clamp-details span')[2].text\n",
    "        releasedates.append(releasedate)\n",
    "\n",
    "        #The metascore\n",
    "        metascore = container.select('div.metascore_w')[1].text\n",
    "        if metascore == 'tbd':\n",
    "            metascores.append(None)\n",
    "        else:\n",
    "            metascores.append(int(metascore))\n",
    "\n",
    "        #The user score\n",
    "        userscore = container.select('div.metascore_w.user')[0].text\n",
    "        if userscore == 'tbd':\n",
    "            userscores.append(None)\n",
    "        else:\n",
    "            userscores.append(float(userscore))\n",
    "\n",
    "        #The summary\n",
    "        summary = container.select('div.summary')[0].text.strip().replace('\\n', '')\n",
    "        summarys.append(summary)\n",
    "\n"
   ]
  },
  {
   "cell_type": "code",
   "execution_count": 28,
   "metadata": {},
   "outputs": [
    {
     "name": "stdout",
     "output_type": "stream",
     "text": [
      "<class 'pandas.core.frame.DataFrame'>\n",
      "RangeIndex: 7200 entries, 0 to 7199\n",
      "Data columns (total 6 columns):\n",
      " #   Column       Non-Null Count  Dtype  \n",
      "---  ------       --------------  -----  \n",
      " 0   title        7200 non-null   object \n",
      " 1   platform     7200 non-null   object \n",
      " 2   releasedate  7200 non-null   object \n",
      " 3   metascore    7200 non-null   int64  \n",
      " 4   userscore    7054 non-null   float64\n",
      " 5   summary      7200 non-null   object \n",
      "dtypes: float64(1), int64(1), object(4)\n",
      "memory usage: 337.6+ KB\n",
      "None\n"
     ]
    },
    {
     "data": {
      "text/html": [
       "<div>\n",
       "<style scoped>\n",
       "    .dataframe tbody tr th:only-of-type {\n",
       "        vertical-align: middle;\n",
       "    }\n",
       "\n",
       "    .dataframe tbody tr th {\n",
       "        vertical-align: top;\n",
       "    }\n",
       "\n",
       "    .dataframe thead th {\n",
       "        text-align: right;\n",
       "    }\n",
       "</style>\n",
       "<table border=\"1\" class=\"dataframe\">\n",
       "  <thead>\n",
       "    <tr style=\"text-align: right;\">\n",
       "      <th></th>\n",
       "      <th>title</th>\n",
       "      <th>platform</th>\n",
       "      <th>releasedate</th>\n",
       "      <th>metascore</th>\n",
       "      <th>userscore</th>\n",
       "      <th>summary</th>\n",
       "    </tr>\n",
       "  </thead>\n",
       "  <tbody>\n",
       "    <tr>\n",
       "      <th>0</th>\n",
       "      <td>Ninja Gaiden Black</td>\n",
       "      <td>Xbox</td>\n",
       "      <td>September 20, 2005</td>\n",
       "      <td>94</td>\n",
       "      <td>8.7</td>\n",
       "      <td>In Ninja Gaiden Black you can reprise the role...</td>\n",
       "    </tr>\n",
       "    <tr>\n",
       "      <th>1</th>\n",
       "      <td>The Elder Scrolls IV: Oblivion</td>\n",
       "      <td>PC</td>\n",
       "      <td>March 20, 2006</td>\n",
       "      <td>94</td>\n",
       "      <td>8.3</td>\n",
       "      <td>Oblivion is a single-player game that takes pl...</td>\n",
       "    </tr>\n",
       "    <tr>\n",
       "      <th>2</th>\n",
       "      <td>Elden Ring</td>\n",
       "      <td>PC</td>\n",
       "      <td>February 25, 2022</td>\n",
       "      <td>94</td>\n",
       "      <td>6.9</td>\n",
       "      <td>A New World Created By Hidetaka Miyazaki And G...</td>\n",
       "    </tr>\n",
       "    <tr>\n",
       "      <th>3</th>\n",
       "      <td>Street Fighter IV</td>\n",
       "      <td>PlayStation 3</td>\n",
       "      <td>February 17, 2009</td>\n",
       "      <td>94</td>\n",
       "      <td>7.4</td>\n",
       "      <td>Street Fighter IV features a mix of returning ...</td>\n",
       "    </tr>\n",
       "    <tr>\n",
       "      <th>4</th>\n",
       "      <td>Super Mario Advance 4: Super Mario Bros. 3</td>\n",
       "      <td>Game Boy Advance</td>\n",
       "      <td>October 21, 2003</td>\n",
       "      <td>94</td>\n",
       "      <td>8.9</td>\n",
       "      <td>A combination of exciting platforming action, ...</td>\n",
       "    </tr>\n",
       "    <tr>\n",
       "      <th>...</th>\n",
       "      <td>...</td>\n",
       "      <td>...</td>\n",
       "      <td>...</td>\n",
       "      <td>...</td>\n",
       "      <td>...</td>\n",
       "      <td>...</td>\n",
       "    </tr>\n",
       "    <tr>\n",
       "      <th>7195</th>\n",
       "      <td>The Council - Episode 2: Hide and Seek</td>\n",
       "      <td>Xbox One</td>\n",
       "      <td>May 15, 2018</td>\n",
       "      <td>76</td>\n",
       "      <td>7.7</td>\n",
       "      <td>Louis de Richet is on Lord Mortimer’s island w...</td>\n",
       "    </tr>\n",
       "    <tr>\n",
       "      <th>7196</th>\n",
       "      <td>Nihilumbra</td>\n",
       "      <td>Wii U</td>\n",
       "      <td>May 14, 2015</td>\n",
       "      <td>76</td>\n",
       "      <td>6.8</td>\n",
       "      <td>Nihilumbra is a dark, atmospheric 2D puzzle pl...</td>\n",
       "    </tr>\n",
       "    <tr>\n",
       "      <th>7197</th>\n",
       "      <td>Mortal Kombat X</td>\n",
       "      <td>PC</td>\n",
       "      <td>April 13, 2015</td>\n",
       "      <td>76</td>\n",
       "      <td>5.8</td>\n",
       "      <td>Mortal Kombat X combines cinematic presentatio...</td>\n",
       "    </tr>\n",
       "    <tr>\n",
       "      <th>7198</th>\n",
       "      <td>Strider</td>\n",
       "      <td>Xbox 360</td>\n",
       "      <td>February 19, 2014</td>\n",
       "      <td>76</td>\n",
       "      <td>7.6</td>\n",
       "      <td>Originally released in 1989, Strider remains o...</td>\n",
       "    </tr>\n",
       "    <tr>\n",
       "      <th>7199</th>\n",
       "      <td>SteamWorld Dig</td>\n",
       "      <td>PC</td>\n",
       "      <td>December 5, 2013</td>\n",
       "      <td>76</td>\n",
       "      <td>7.5</td>\n",
       "      <td>The clock has stopped around the turn of the 1...</td>\n",
       "    </tr>\n",
       "  </tbody>\n",
       "</table>\n",
       "<p>7200 rows × 6 columns</p>\n",
       "</div>"
      ],
      "text/plain": [
       "                                           title          platform  \\\n",
       "0                             Ninja Gaiden Black              Xbox   \n",
       "1                 The Elder Scrolls IV: Oblivion                PC   \n",
       "2                                     Elden Ring                PC   \n",
       "3                              Street Fighter IV     PlayStation 3   \n",
       "4     Super Mario Advance 4: Super Mario Bros. 3  Game Boy Advance   \n",
       "...                                          ...               ...   \n",
       "7195      The Council - Episode 2: Hide and Seek          Xbox One   \n",
       "7196                                  Nihilumbra             Wii U   \n",
       "7197                             Mortal Kombat X                PC   \n",
       "7198                                     Strider          Xbox 360   \n",
       "7199                              SteamWorld Dig                PC   \n",
       "\n",
       "             releasedate  metascore  userscore  \\\n",
       "0     September 20, 2005         94        8.7   \n",
       "1         March 20, 2006         94        8.3   \n",
       "2      February 25, 2022         94        6.9   \n",
       "3      February 17, 2009         94        7.4   \n",
       "4       October 21, 2003         94        8.9   \n",
       "...                  ...        ...        ...   \n",
       "7195        May 15, 2018         76        7.7   \n",
       "7196        May 14, 2015         76        6.8   \n",
       "7197      April 13, 2015         76        5.8   \n",
       "7198   February 19, 2014         76        7.6   \n",
       "7199    December 5, 2013         76        7.5   \n",
       "\n",
       "                                                summary  \n",
       "0     In Ninja Gaiden Black you can reprise the role...  \n",
       "1     Oblivion is a single-player game that takes pl...  \n",
       "2     A New World Created By Hidetaka Miyazaki And G...  \n",
       "3     Street Fighter IV features a mix of returning ...  \n",
       "4     A combination of exciting platforming action, ...  \n",
       "...                                                 ...  \n",
       "7195  Louis de Richet is on Lord Mortimer’s island w...  \n",
       "7196  Nihilumbra is a dark, atmospheric 2D puzzle pl...  \n",
       "7197  Mortal Kombat X combines cinematic presentatio...  \n",
       "7198  Originally released in 1989, Strider remains o...  \n",
       "7199  The clock has stopped around the turn of the 1...  \n",
       "\n",
       "[7200 rows x 6 columns]"
      ]
     },
     "execution_count": 28,
     "metadata": {},
     "output_type": "execute_result"
    }
   ],
   "source": [
    "import pandas as pd\n",
    "\n",
    "game_ratings = pd.DataFrame({'title': titles,\n",
    "                        'platform': platforms,\n",
    "                       'releasedate': releasedates,\n",
    "                       'metascore': metascores,\n",
    "                       'userscore': userscores,\n",
    "                       'summary': summarys})\n",
    "print(game_ratings.info())\n",
    "game_ratings"
   ]
  },
  {
   "cell_type": "code",
   "execution_count": 29,
   "metadata": {},
   "outputs": [
    {
     "data": {
      "text/html": [
       "<div>\n",
       "<style scoped>\n",
       "    .dataframe tbody tr th:only-of-type {\n",
       "        vertical-align: middle;\n",
       "    }\n",
       "\n",
       "    .dataframe tbody tr th {\n",
       "        vertical-align: top;\n",
       "    }\n",
       "\n",
       "    .dataframe thead th {\n",
       "        text-align: right;\n",
       "    }\n",
       "</style>\n",
       "<table border=\"1\" class=\"dataframe\">\n",
       "  <thead>\n",
       "    <tr style=\"text-align: right;\">\n",
       "      <th></th>\n",
       "      <th>title</th>\n",
       "      <th>platform</th>\n",
       "      <th>releasedate</th>\n",
       "      <th>metascore</th>\n",
       "      <th>userscore</th>\n",
       "      <th>summary</th>\n",
       "    </tr>\n",
       "  </thead>\n",
       "  <tbody>\n",
       "    <tr>\n",
       "      <th>0</th>\n",
       "      <td>Ninja Gaiden Black</td>\n",
       "      <td>Xbox</td>\n",
       "      <td>2005-09-20</td>\n",
       "      <td>94</td>\n",
       "      <td>8.7</td>\n",
       "      <td>In Ninja Gaiden Black you can reprise the role...</td>\n",
       "    </tr>\n",
       "    <tr>\n",
       "      <th>1</th>\n",
       "      <td>The Elder Scrolls IV: Oblivion</td>\n",
       "      <td>PC</td>\n",
       "      <td>2006-03-20</td>\n",
       "      <td>94</td>\n",
       "      <td>8.3</td>\n",
       "      <td>Oblivion is a single-player game that takes pl...</td>\n",
       "    </tr>\n",
       "    <tr>\n",
       "      <th>2</th>\n",
       "      <td>Elden Ring</td>\n",
       "      <td>PC</td>\n",
       "      <td>2022-02-25</td>\n",
       "      <td>94</td>\n",
       "      <td>6.9</td>\n",
       "      <td>A New World Created By Hidetaka Miyazaki And G...</td>\n",
       "    </tr>\n",
       "    <tr>\n",
       "      <th>3</th>\n",
       "      <td>Street Fighter IV</td>\n",
       "      <td>PlayStation 3</td>\n",
       "      <td>2009-02-17</td>\n",
       "      <td>94</td>\n",
       "      <td>7.4</td>\n",
       "      <td>Street Fighter IV features a mix of returning ...</td>\n",
       "    </tr>\n",
       "    <tr>\n",
       "      <th>4</th>\n",
       "      <td>Super Mario Advance 4: Super Mario Bros. 3</td>\n",
       "      <td>Game Boy Advance</td>\n",
       "      <td>2003-10-21</td>\n",
       "      <td>94</td>\n",
       "      <td>8.9</td>\n",
       "      <td>A combination of exciting platforming action, ...</td>\n",
       "    </tr>\n",
       "    <tr>\n",
       "      <th>...</th>\n",
       "      <td>...</td>\n",
       "      <td>...</td>\n",
       "      <td>...</td>\n",
       "      <td>...</td>\n",
       "      <td>...</td>\n",
       "      <td>...</td>\n",
       "    </tr>\n",
       "    <tr>\n",
       "      <th>7195</th>\n",
       "      <td>The Council - Episode 2: Hide and Seek</td>\n",
       "      <td>Xbox One</td>\n",
       "      <td>2018-05-15</td>\n",
       "      <td>76</td>\n",
       "      <td>7.7</td>\n",
       "      <td>Louis de Richet is on Lord Mortimer’s island w...</td>\n",
       "    </tr>\n",
       "    <tr>\n",
       "      <th>7196</th>\n",
       "      <td>Nihilumbra</td>\n",
       "      <td>Wii U</td>\n",
       "      <td>2015-05-14</td>\n",
       "      <td>76</td>\n",
       "      <td>6.8</td>\n",
       "      <td>Nihilumbra is a dark, atmospheric 2D puzzle pl...</td>\n",
       "    </tr>\n",
       "    <tr>\n",
       "      <th>7197</th>\n",
       "      <td>Mortal Kombat X</td>\n",
       "      <td>PC</td>\n",
       "      <td>2015-04-13</td>\n",
       "      <td>76</td>\n",
       "      <td>5.8</td>\n",
       "      <td>Mortal Kombat X combines cinematic presentatio...</td>\n",
       "    </tr>\n",
       "    <tr>\n",
       "      <th>7198</th>\n",
       "      <td>Strider</td>\n",
       "      <td>Xbox 360</td>\n",
       "      <td>2014-02-19</td>\n",
       "      <td>76</td>\n",
       "      <td>7.6</td>\n",
       "      <td>Originally released in 1989, Strider remains o...</td>\n",
       "    </tr>\n",
       "    <tr>\n",
       "      <th>7199</th>\n",
       "      <td>SteamWorld Dig</td>\n",
       "      <td>PC</td>\n",
       "      <td>2013-12-05</td>\n",
       "      <td>76</td>\n",
       "      <td>7.5</td>\n",
       "      <td>The clock has stopped around the turn of the 1...</td>\n",
       "    </tr>\n",
       "  </tbody>\n",
       "</table>\n",
       "<p>7200 rows × 6 columns</p>\n",
       "</div>"
      ],
      "text/plain": [
       "                                           title          platform  \\\n",
       "0                             Ninja Gaiden Black              Xbox   \n",
       "1                 The Elder Scrolls IV: Oblivion                PC   \n",
       "2                                     Elden Ring                PC   \n",
       "3                              Street Fighter IV     PlayStation 3   \n",
       "4     Super Mario Advance 4: Super Mario Bros. 3  Game Boy Advance   \n",
       "...                                          ...               ...   \n",
       "7195      The Council - Episode 2: Hide and Seek          Xbox One   \n",
       "7196                                  Nihilumbra             Wii U   \n",
       "7197                             Mortal Kombat X                PC   \n",
       "7198                                     Strider          Xbox 360   \n",
       "7199                              SteamWorld Dig                PC   \n",
       "\n",
       "     releasedate  metascore  userscore  \\\n",
       "0     2005-09-20         94        8.7   \n",
       "1     2006-03-20         94        8.3   \n",
       "2     2022-02-25         94        6.9   \n",
       "3     2009-02-17         94        7.4   \n",
       "4     2003-10-21         94        8.9   \n",
       "...          ...        ...        ...   \n",
       "7195  2018-05-15         76        7.7   \n",
       "7196  2015-05-14         76        6.8   \n",
       "7197  2015-04-13         76        5.8   \n",
       "7198  2014-02-19         76        7.6   \n",
       "7199  2013-12-05         76        7.5   \n",
       "\n",
       "                                                summary  \n",
       "0     In Ninja Gaiden Black you can reprise the role...  \n",
       "1     Oblivion is a single-player game that takes pl...  \n",
       "2     A New World Created By Hidetaka Miyazaki And G...  \n",
       "3     Street Fighter IV features a mix of returning ...  \n",
       "4     A combination of exciting platforming action, ...  \n",
       "...                                                 ...  \n",
       "7195  Louis de Richet is on Lord Mortimer’s island w...  \n",
       "7196  Nihilumbra is a dark, atmospheric 2D puzzle pl...  \n",
       "7197  Mortal Kombat X combines cinematic presentatio...  \n",
       "7198  Originally released in 1989, Strider remains o...  \n",
       "7199  The clock has stopped around the turn of the 1...  \n",
       "\n",
       "[7200 rows x 6 columns]"
      ]
     },
     "execution_count": 29,
     "metadata": {},
     "output_type": "execute_result"
    }
   ],
   "source": [
    "# Remove duplicates\n",
    "game_ratings.drop_duplicates(inplace=True)\n",
    "\n",
    "# Convert releasedate column to datetime format\n",
    "game_ratings['releasedate'] = pd.to_datetime(game_ratings['releasedate'])\n",
    "\n",
    "# Convert userscore column to float format\n",
    "game_ratings['userscore'] = pd.to_numeric(game_ratings['userscore'], errors='coerce')\n",
    "\n",
    "# Reorder the columns\n",
    "game_ratings = game_ratings[['title', 'platform', 'releasedate', 'metascore', 'userscore', 'summary']]\n",
    "\n",
    "# Display the cleaned data\n",
    "game_ratings\n"
   ]
  },
  {
   "cell_type": "code",
   "execution_count": 30,
   "metadata": {},
   "outputs": [
    {
     "name": "stdout",
     "output_type": "stream",
     "text": [
      "Requirement already satisfied: psycopg2-binary in d:\\masterprograms\\anaconda\\envs\\misy350\\lib\\site-packages (2.9.6)\n",
      "Note: you may need to restart the kernel to use updated packages.\n"
     ]
    }
   ],
   "source": [
    "#pip install psycopg2-binary\n"
   ]
  },
  {
   "cell_type": "code",
   "execution_count": 31,
   "metadata": {},
   "outputs": [],
   "source": [
    "import psycopg2\n",
    "#Making a connection to my database in postgres\n",
    "connect = psycopg2.connect(\n",
    "    host=\"localhost\",\n",
    "    database=\"Online-datamining Metacritic data\",\n",
    "    user=\"postgres\",\n",
    "    password=\"Removed_For_security\"\n",
    ")\n"
   ]
  },
  {
   "cell_type": "code",
   "execution_count": 34,
   "metadata": {},
   "outputs": [],
   "source": [
    "#To remove previous connection in order to execute code\n",
    "cur.execute(\"ROLLBACK\")\n",
    "cur.close()\n",
    "\n"
   ]
  },
  {
   "cell_type": "code",
   "execution_count": 35,
   "metadata": {},
   "outputs": [
    {
     "ename": "DuplicateTable",
     "evalue": "relation \"metacritic_data\" already exists\n",
     "output_type": "error",
     "traceback": [
      "\u001b[1;31m---------------------------------------------------------------------------\u001b[0m",
      "\u001b[1;31mDuplicateTable\u001b[0m                            Traceback (most recent call last)",
      "\u001b[1;32mc:\\Users\\Ward\\OneDrive\\Documenten\\Master\\Online data mining\\Metacritic scraper.ipynb Cell 31\u001b[0m in \u001b[0;36m<cell line: 5>\u001b[1;34m()\u001b[0m\n\u001b[0;32m      <a href='vscode-notebook-cell:/c%3A/Users/Ward/OneDrive/Documenten/Master/Online%20data%20mining/Metacritic%20scraper.ipynb#X41sZmlsZQ%3D%3D?line=0'>1</a>\u001b[0m \u001b[39mimport\u001b[39;00m \u001b[39mpandas\u001b[39;00m \u001b[39mas\u001b[39;00m \u001b[39mpd\u001b[39;00m\n\u001b[0;32m      <a href='vscode-notebook-cell:/c%3A/Users/Ward/OneDrive/Documenten/Master/Online%20data%20mining/Metacritic%20scraper.ipynb#X41sZmlsZQ%3D%3D?line=2'>3</a>\u001b[0m cur \u001b[39m=\u001b[39m connect\u001b[39m.\u001b[39mcursor()\n\u001b[1;32m----> <a href='vscode-notebook-cell:/c%3A/Users/Ward/OneDrive/Documenten/Master/Online%20data%20mining/Metacritic%20scraper.ipynb#X41sZmlsZQ%3D%3D?line=4'>5</a>\u001b[0m cur\u001b[39m.\u001b[39;49mexecute(\u001b[39m\"\"\"\u001b[39;49m\n\u001b[0;32m      <a href='vscode-notebook-cell:/c%3A/Users/Ward/OneDrive/Documenten/Master/Online%20data%20mining/Metacritic%20scraper.ipynb#X41sZmlsZQ%3D%3D?line=5'>6</a>\u001b[0m \u001b[39m    CREATE TABLE Metacritic_data (\u001b[39;49m\n\u001b[0;32m      <a href='vscode-notebook-cell:/c%3A/Users/Ward/OneDrive/Documenten/Master/Online%20data%20mining/Metacritic%20scraper.ipynb#X41sZmlsZQ%3D%3D?line=6'>7</a>\u001b[0m \u001b[39m        title varchar(255),\u001b[39;49m\n\u001b[0;32m      <a href='vscode-notebook-cell:/c%3A/Users/Ward/OneDrive/Documenten/Master/Online%20data%20mining/Metacritic%20scraper.ipynb#X41sZmlsZQ%3D%3D?line=7'>8</a>\u001b[0m \u001b[39m        platform varchar(255),\u001b[39;49m\n\u001b[0;32m      <a href='vscode-notebook-cell:/c%3A/Users/Ward/OneDrive/Documenten/Master/Online%20data%20mining/Metacritic%20scraper.ipynb#X41sZmlsZQ%3D%3D?line=8'>9</a>\u001b[0m \u001b[39m        releasedate date,\u001b[39;49m\n\u001b[0;32m     <a href='vscode-notebook-cell:/c%3A/Users/Ward/OneDrive/Documenten/Master/Online%20data%20mining/Metacritic%20scraper.ipynb#X41sZmlsZQ%3D%3D?line=9'>10</a>\u001b[0m \u001b[39m        metascore integer,\u001b[39;49m\n\u001b[0;32m     <a href='vscode-notebook-cell:/c%3A/Users/Ward/OneDrive/Documenten/Master/Online%20data%20mining/Metacritic%20scraper.ipynb#X41sZmlsZQ%3D%3D?line=10'>11</a>\u001b[0m \u001b[39m        userscore decimal,\u001b[39;49m\n\u001b[0;32m     <a href='vscode-notebook-cell:/c%3A/Users/Ward/OneDrive/Documenten/Master/Online%20data%20mining/Metacritic%20scraper.ipynb#X41sZmlsZQ%3D%3D?line=11'>12</a>\u001b[0m \u001b[39m        summary text\u001b[39;49m\n\u001b[0;32m     <a href='vscode-notebook-cell:/c%3A/Users/Ward/OneDrive/Documenten/Master/Online%20data%20mining/Metacritic%20scraper.ipynb#X41sZmlsZQ%3D%3D?line=12'>13</a>\u001b[0m \u001b[39m    )\u001b[39;49m\n\u001b[0;32m     <a href='vscode-notebook-cell:/c%3A/Users/Ward/OneDrive/Documenten/Master/Online%20data%20mining/Metacritic%20scraper.ipynb#X41sZmlsZQ%3D%3D?line=13'>14</a>\u001b[0m \u001b[39m\"\"\"\u001b[39;49m)\n\u001b[0;32m     <a href='vscode-notebook-cell:/c%3A/Users/Ward/OneDrive/Documenten/Master/Online%20data%20mining/Metacritic%20scraper.ipynb#X41sZmlsZQ%3D%3D?line=15'>16</a>\u001b[0m connect\u001b[39m.\u001b[39mcommit()\n\u001b[0;32m     <a href='vscode-notebook-cell:/c%3A/Users/Ward/OneDrive/Documenten/Master/Online%20data%20mining/Metacritic%20scraper.ipynb#X41sZmlsZQ%3D%3D?line=17'>18</a>\u001b[0m cur\u001b[39m.\u001b[39mclose()\n",
      "\u001b[1;31mDuplicateTable\u001b[0m: relation \"metacritic_data\" already exists\n"
     ]
    }
   ],
   "source": [
    "import pandas as pd\n",
    "#Creating a new table\n",
    "cur = connect.cursor()\n",
    "#Creating a new table in the database in postgres\n",
    "cur.execute(\"\"\"\n",
    "    CREATE TABLE Metacritic_data (\n",
    "        title varchar(255),\n",
    "        platform varchar(255),\n",
    "        releasedate date,\n",
    "        metascore integer,\n",
    "        userscore decimal,\n",
    "        summary text\n",
    "    )\n",
    "\"\"\")\n",
    "\n",
    "connect.commit()\n",
    "\n",
    "cur.close()\n"
   ]
  },
  {
   "cell_type": "code",
   "execution_count": 37,
   "metadata": {},
   "outputs": [],
   "source": [
    "cur = connect.cursor()\n",
    "#Executing the link between the python df: game_ratings and the postgres database, importing the rows of data that we scraped using beautifullsoup\n",
    "for index, row in game_ratings.iterrows():\n",
    "    cur.execute(\"\"\"\n",
    "        INSERT INTO Metacritic_data (title, platform, releasedate, metascore, userscore, summary)\n",
    "        VALUES (%s, %s, %s, %s, %s, %s)\n",
    "    \"\"\", (\n",
    "        row['title'],\n",
    "        row['platform'],\n",
    "        row['releasedate'],\n",
    "        row['metascore'],\n",
    "        row['userscore'],\n",
    "        row['summary']\n",
    "    ))\n",
    "\n",
    "connect.commit()\n",
    "\n",
    "cur.close()\n"
   ]
  }
 ],
 "metadata": {
  "kernelspec": {
   "display_name": "MISY350",
   "language": "python",
   "name": "python3"
  },
  "language_info": {
   "codemirror_mode": {
    "name": "ipython",
    "version": 3
   },
   "file_extension": ".py",
   "mimetype": "text/x-python",
   "name": "python",
   "nbconvert_exporter": "python",
   "pygments_lexer": "ipython3",
   "version": "3.9.13"
  },
  "orig_nbformat": 4
 },
 "nbformat": 4,
 "nbformat_minor": 2
}
